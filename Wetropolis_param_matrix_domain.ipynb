{
 "cells": [
  {
   "attachments": {},
   "cell_type": "markdown",
   "metadata": {},
   "source": [
    "# Parameterising the domain of the wetropolis\n",
    "\n",
    "Lets say that we want a fix the number of degrees of freedom in each direction.\n",
    "\n",
    "Nx and Ny need to be inputs to the function.\n",
    "We will be following the CAD drawing as given here (https://github.com/obokhove/wetropolis20162020/blob/master/topodrawings/foamblocksaug2017NFMcombinedscale50pct.pdf).\n",
    "\n",
    "\n"
   ]
  },
  {
   "attachments": {},
   "cell_type": "markdown",
   "metadata": {},
   "source": []
  },
  {
   "cell_type": "code",
   "execution_count": null,
   "metadata": {},
   "outputs": [],
   "source": []
  },
  {
   "cell_type": "code",
   "execution_count": null,
   "metadata": {},
   "outputs": [],
   "source": [
    "import numpy as np\n",
    "import matplotlib.pyplot as plt\n",
    "\n",
    "from domain_utilities import *"
   ]
  },
  {
   "cell_type": "code",
   "execution_count": null,
   "metadata": {},
   "outputs": [],
   "source": [
    "# Creating a dict for the coefficients:\n",
    "X = 1200\n",
    "Y = 1194\n",
    "coeff_dict = {\n",
    "    'River section 1 x range': (290/X, 1200/X),\n",
    "    'River section 1 y range': (997/Y, 1047/Y),\n",
    "    'FP section 1 x range':  (290/X, 1115/X),\n",
    "    'FP section 1 y range': (1047/Y, 1147/Y),\n",
    "    'Curve 1 centre': (290/X, 897/Y),\n",
    "    'Curve 1 theta range': (np.pi/2, 3*np.pi/2),\n",
    "    'Curve 1 river radius range': (100/X, 150/X),\n",
    "    'Curve 1 FP radius range' :(150/X, 250/X),\n",
    "    'River section 2 x range' : (290/X, 925/X),\n",
    "    'River section 2 y range' : (747/Y, 797/Y),\n",
    "    'FP section 2 x range': (290/X, 925/X) ,\n",
    "    'FP section 2 y range': (647/Y, 747/Y),\n",
    "    'Curve 2 centre': (925/X, 597/Y),\n",
    "    'Curve 2 theta range': (3*np.pi/2, 5*np.pi/2),\n",
    "    'Curve 2 river radius range': (150/X, 200/X),\n",
    "    'Curve 2 FP radius range': (50/X, 150/X),\n",
    "    'River section 3 x range': (290/X, 925/X),\n",
    "    'River section 3 y range': (397/Y, 447/Y),\n",
    "    'FP section 3 x range': (290/X, 925/X),\n",
    "    'FP section 3 y range': (447/Y, 547/Y),\n",
    "    'Curve 3 centre': (290/X, 297/Y),\n",
    "    'Curve 3 theta range': (np.pi/2, 3*np.pi/2),\n",
    "    'Curve 3 river radius range': (100/X, 150/X),\n",
    "    'Curve 3 FP radius range': (150/X, 250/X),\n",
    "    'River section 4 x range': (290/X, 954/X),\n",
    "    'River section 4 y range': (147/Y, 197/Y),\n",
    "    'FP section 4 x range': (290/X, 467/X),\n",
    "    'FP section 4 y range': (47/Y, 147/Y),\n",
    "    'Exit curve x value': 1027/X,\n",
    "    'Exit curve y range': (293.5/Y, 343.5/Y),\n",
    "    'Exit curve x linspace': (-1.5, 1.5),\n",
    "    'Horizontal scaling coeff': (146.5/Y),\n",
    "    'Vertical shift coeff': (123/X),\n",
    "    'Exit curve x range': (1077/X, 1127/X),\n",
    "    'Town north x range': (467/X, 886/X),\n",
    "    'Town north y range': (197/Y, 297/Y),\n",
    "    'Town south x range': (467/X, 886/X),\n",
    "    'Town south y range': (47/Y, 147/Y)\n",
    "}"
   ]
  },
  {
   "cell_type": "code",
   "execution_count": null,
   "metadata": {},
   "outputs": [],
   "source": []
  },
  {
   "cell_type": "code",
   "execution_count": null,
   "metadata": {},
   "outputs": [],
   "source": [
    "coeff_dict"
   ]
  },
  {
   "cell_type": "code",
   "execution_count": null,
   "metadata": {},
   "outputs": [],
   "source": [
    "coeff_dict['Curve 1 theta range']"
   ]
  },
  {
   "cell_type": "code",
   "execution_count": null,
   "metadata": {},
   "outputs": [],
   "source": [
    "# new attempt\n",
    "X_disc = 629\n",
    "Y_disc = 354\n",
    "river_depth = -0.5\n",
    "FP_depth = 0.1\n",
    "north_town_depth = 0\n",
    "south_town_depth = 0\n",
    "N_circle = 300\n",
    "N_disc = 300\n",
    "slope = 0.042\n",
    "\n",
    "\n",
    "A = create_wetropolis_DtM(X_disc, Y_disc, coeff_dict, river_depth, \n",
    "                          FP_depth, north_town_depth, south_town_depth,\n",
    "                          N_circle, N_disc, slope)\n",
    "\n",
    "\n"
   ]
  },
  {
   "cell_type": "code",
   "execution_count": null,
   "metadata": {},
   "outputs": [],
   "source": [
    "fig, ax = plt.subplots()\n",
    "c = ax.pcolor(A, cmap='Spectral')\n",
    "ax.set_title('Wetropolis DtM')\n",
    "fig.colorbar(c, ax = ax)"
   ]
  },
  {
   "attachments": {},
   "cell_type": "markdown",
   "metadata": {},
   "source": [
    "# Experimental and old work below this point"
   ]
  },
  {
   "cell_type": "code",
   "execution_count": 16,
   "metadata": {},
   "outputs": [
    {
     "data": {
      "text/plain": [
       "((354, 629), 629, 354)"
      ]
     },
     "execution_count": 16,
     "metadata": {},
     "output_type": "execute_result"
    }
   ],
   "source": [
    "(np.shape(A), X_disc, Y_disc)"
   ]
  },
  {
   "cell_type": "code",
   "execution_count": 12,
   "metadata": {},
   "outputs": [],
   "source": [
    "test_ascii = ascii(A)"
   ]
  },
  {
   "cell_type": "code",
   "execution_count": 18,
   "metadata": {},
   "outputs": [
    {
     "data": {
      "text/plain": [
       "'array([[1.        , 1.        , 1.        , ..., 1.        , 1.        ,\\n        1.        ],\\n       [0.99988102, 0.99988102, 0.99988102, ..., 0.99988102, 0.99988102,\\n        0.99988102],\\n       [0.99976204, 0.99976204, 0.99976204, ..., 0.99976204, 0.99976204,\\n        0.99976204],\\n       ...,\\n       [0.95823796, 0.95823796, 0.95823796, ..., 0.95823796, 0.95823796,\\n        0.95823796],\\n       [0.95811898, 0.95811898, 0.95811898, ..., 0.95811898, 0.95811898,\\n        0.95811898],\\n       [0.958     , 0.958     , 0.958     , ..., 0.958     , 0.958     ,\\n        0.958     ]])'"
      ]
     },
     "execution_count": 18,
     "metadata": {},
     "output_type": "execute_result"
    }
   ],
   "source": [
    "test_ascii"
   ]
  },
  {
   "cell_type": "code",
   "execution_count": null,
   "metadata": {},
   "outputs": [],
   "source": []
  },
  {
   "cell_type": "code",
   "execution_count": null,
   "metadata": {},
   "outputs": [],
   "source": [
    "A_test = np.zeros((Y_disc, X_disc))\n",
    "x_range = np.linspace(coeff_dict['Exit curve x linspace'][0],\n",
    "                    coeff_dict['Exit curve x linspace'][1], N_disc)\n",
    "y_low = int(Y_disc*coeff_dict['Exit curve y range'][0])\n",
    "y_up = int(Y_disc*coeff_dict['Exit curve y range'][1])\n",
    "\n",
    "c_horz = Y_disc*coeff_dict['Horizontal scaling coeff']/np.max(x_range)\n",
    "c_vert = X_disc*coeff_dict['Vertical shift coeff']/np.tan(np.max(x_range))\n",
    "\n",
    "x_pos_max = int(np.floor(X_disc*coeff_dict['Exit curve x range'][1]))\n",
    "x_pos_min = int(np.floor(X_disc*coeff_dict['Exit curve x range'][0]))\n",
    "\n",
    "# test = np.array(x_pos_min, x_pos_min)\n",
    "\n",
    "\n",
    "for xx in x_range:\n",
    "    # for yy in range(int(y_low), int(y_up)):\n",
    "    \n",
    "    for x_pos in range(x_pos_min, x_pos_max):\n",
    "        for y_pos in range(y_low, y_up):\n",
    "        \n",
    "            # xj = int(x_pos + xx*c_horz)\n",
    "            # yj = int(yy + -c_vert*np.tan(xx))\n",
    "\n",
    "            xj = int(x_pos + c_vert*np.tan(xx))\n",
    "            yj = int(y_pos + xx*c_horz)\n",
    "\n",
    "            if xj < X_disc:\n",
    "                A_test[yj, xj] = river_depth\n",
    "            \n",
    "                \n",
    "            \n",
    "    "
   ]
  },
  {
   "cell_type": "code",
   "execution_count": null,
   "metadata": {},
   "outputs": [],
   "source": [
    "fig, ax = plt.subplots()\n",
    "c = ax.pcolor(A_test, cmap='Spectral')\n",
    "ax.set_title('Wetropolis DtM')\n",
    "fig.colorbar(c, ax = ax)"
   ]
  },
  {
   "cell_type": "code",
   "execution_count": null,
   "metadata": {},
   "outputs": [],
   "source": [
    "(x_pos_min, x_pos_max)"
   ]
  },
  {
   "cell_type": "code",
   "execution_count": null,
   "metadata": {},
   "outputs": [],
   "source": [
    "# scaled system\n",
    "xj = 0\n",
    "yj = 0\n",
    "\n",
    "x1 = int(x_pos + c_vert*np.tan(x_range[xj]))\n",
    "y1 = int(y_low + x_range[xj]*c_horz)\n",
    "\n",
    "# raw system\n",
    "x1_orig = 954\n",
    "y1_orig = 147\n",
    "\n",
    "c_x1 = x1_orig/x1\n",
    "c_y1 = y1_orig/y1\n",
    "(x1, y1, x1_orig, y1_orig, c_x1, c_y1, X/X_disc, Y/Y_disc)"
   ]
  },
  {
   "cell_type": "code",
   "execution_count": null,
   "metadata": {},
   "outputs": [],
   "source": [
    "X_disc"
   ]
  },
  {
   "cell_type": "code",
   "execution_count": null,
   "metadata": {},
   "outputs": [],
   "source": [
    "fig, ax = plt.subplots()\n",
    "c = ax.pcolor(A_test, cmap='Spectral')\n",
    "ax.set_title('Wetropolis DtM')\n",
    "fig.colorbar(c, ax = ax)"
   ]
  },
  {
   "attachments": {},
   "cell_type": "markdown",
   "metadata": {},
   "source": [
    "# adding the final exit curve\n",
    "Using a tan curve"
   ]
  },
  {
   "cell_type": "code",
   "execution_count": null,
   "metadata": {},
   "outputs": [],
   "source": [
    "\n",
    "x = np.linspace(-1.5, 1.5, 1000)\n",
    "c_horz = 146.5/1.5\n",
    "c_vert = 123/np.tan(np.max(x))\n",
    "\n",
    "x_pos = 1077\n",
    "\n",
    "y_pos = 293.5\n",
    "\n",
    "plt.plot( x_pos + c_vert*np.tan(x), y_pos + x*c_horz)\n",
    "plt.xlabel('x')\n",
    "plt.ylabel('y')"
   ]
  },
  {
   "cell_type": "code",
   "execution_count": null,
   "metadata": {},
   "outputs": [],
   "source": [
    "(1200*coeff_dict['Horizontal scaling coeff'], 1194*coeff_dict['Vertical shift coeff'])"
   ]
  },
  {
   "attachments": {},
   "cell_type": "markdown",
   "metadata": {},
   "source": []
  },
  {
   "attachments": {},
   "cell_type": "markdown",
   "metadata": {},
   "source": [
    "# old approach"
   ]
  },
  {
   "cell_type": "code",
   "execution_count": null,
   "metadata": {},
   "outputs": [],
   "source": [
    "Nx = 1000\n",
    "Ny = 800\n",
    "\n",
    "# dumby input varibles\n",
    "\n",
    "# max variables\n",
    "X_max = 1200\n",
    "Y_max = 1194\n",
    "\n",
    "# depth vars\n",
    "depth_river = -0.02\n",
    "\n",
    "# parameterised grid positions\n",
    "tx = np.linspace(0, X_max, Nx)\n",
    "ty = np.linspace(0, Y_max, Ny)\n",
    "\n",
    "# creating empty matrix\n",
    "A = np.ones((Ny, Nx))\n",
    "\n",
    "# # Creating start and end points for first part of the river\n",
    "# r_sec1_start_upper_x, r_sec1_start_upper_y = 1115, 1147\n",
    "# r_sec1_start_lower_x, r_sec1_start_lower_y = 1115, 1097\n",
    "\n",
    "# r_sec1_end_upper_x, r_sec1_end_upper_y = 290, 1147\n",
    "# r_sec1_end_lower_x, r_sec1_end_lower_y = 290, 1097\n",
    "\n",
    "# # first straight part\n",
    "# A_test = np.zeros((Ny, Nx))\n",
    "# for xx in range( r_sec1_end_upper_x, r_sec1_start_upper_x):\n",
    "#     for yy in range(r_sec1_start_lower_y, r_sec1_end_upper_y):\n",
    "#         xj = int(Nx*xx/X_max)\n",
    "#         yj = int(Ny*yy/Y_max)\n",
    "\n",
    "#         A_test[yj, xj] = depth_river\n",
    "        \n",
    "\n",
    "# Have managed to get a method to map one function to the other. Ideally need to turn this\n",
    "# into a function with the inputs being the different segments then also repeate this for \n",
    "# the curved part.\n",
    "\n",
    "r_sec1_low_x, r_sec1_up_x = 290, 1115\n",
    "r_sec1_low_y, r_sec1_up_y = 1097, 1147\n",
    "A = river_section_param_construct(A, depth_river, r_sec1_low_x, r_sec1_up_x,\n",
    "                                   r_sec1_low_y, r_sec1_up_y, Nx, Ny, X_max, Y_max)\n",
    "\n",
    "r_sec2_low_x, r_sec2_up_x = 290, 954\n",
    "r_sec2_low_y, r_sec2_up_y = 747, 797\n",
    "A = river_section_param_construct(A, depth_river, r_sec2_low_x, r_sec2_up_x,\n",
    "                                   r_sec2_low_y, r_sec2_up_y, Nx, Ny, X_max, Y_max)\n",
    "\n",
    "r_sec3_low_x, r_sec3_up_x = 290, 954\n",
    "r_sec3_low_y, r_sec3_up_y = 397,447\n",
    "A = river_section_param_construct(A, depth_river, r_sec3_low_x, r_sec3_up_x,\n",
    "                                   r_sec3_low_y, r_sec3_up_y, Nx, Ny, X_max, Y_max)\n",
    "\n",
    "# from final curve to town\n",
    "r_sec4_low_x, r_sec4_up_x = 290, 467\n",
    "r_sec4_low_y, r_sec4_up_y = 147, 197\n",
    "A = river_section_param_construct(A, depth_river, r_sec4_low_x, r_sec4_up_x,\n",
    "                                   r_sec4_low_y, r_sec4_up_y, Nx, Ny, X_max, Y_max)\n",
    "\n",
    "# town section\n",
    "r_sec5_low_x, r_sec5_up_x = 467, 887\n",
    "r_sec5_low_y, r_sec5_up_y = 147, 197\n",
    "A = river_section_param_construct(A, depth_river, r_sec5_low_x, r_sec5_up_x,\n",
    "                                   r_sec5_low_y, r_sec5_up_y, Nx, Ny, X_max, Y_max)\n",
    "\n",
    "# town to exit\n",
    "r_sec6_low_x, r_sec6_up_x = 887, 954\n",
    "r_sec6_low_y, r_sec6_up_y = 147, 197\n",
    "A = river_section_param_construct(A, depth_river, r_sec6_low_x, r_sec6_up_x,\n",
    "                                   r_sec6_low_y, r_sec6_up_y, Nx, Ny, X_max, Y_max)\n",
    "\n",
    "\n",
    "          \n",
    "\n"
   ]
  },
  {
   "attachments": {},
   "cell_type": "markdown",
   "metadata": {},
   "source": [
    "# Now adding in the curves\n",
    "Now weare going to add in the curved sections"
   ]
  },
  {
   "cell_type": "code",
   "execution_count": null,
   "metadata": {},
   "outputs": [],
   "source": [
    "cc1 = 290, 879  # centre of the first circle\n",
    "r1, r2= 100, 150\n",
    "theta1, theta2 = np.pi/2, 3*np.pi/2\n",
    "N_theta = 300\n",
    "r_range = np.linspace(r1, r2, N_theta)\n",
    "theta_range = np.linspace(theta1, theta2, N_theta)\n",
    "\n",
    "for r in r_range:\n",
    "    for theta in theta_range:\n",
    "        xx = cc1[0] + r*np.cos(theta)\n",
    "        yy = cc1[1] + r*np.sin(theta)\n",
    "\n",
    "        xj = int(Nx*xx/X_max)\n",
    "        yj = int(Ny*yy/Y_max)\n",
    "\n",
    "        A[yj, xj] = depth_river\n",
    "\n",
    "\n",
    "\n",
    "\n"
   ]
  },
  {
   "cell_type": "code",
   "execution_count": null,
   "metadata": {},
   "outputs": [],
   "source": [
    "cc1_rescaled = Nx*cc1[0]/X_max, Ny*cc1[1]/Y_max\n",
    "\n",
    "r_sec1_ll_coord_rescalled = r_sec1_low_x*Nx/X_max, r_sec1_low_y*Ny/Y_max\n",
    "\n",
    "r_sec2_upl_coord_rescalled = r_sec2_low_x*Nx/X_max, r_sec2_up_y*Ny/Y_max\n",
    "\n",
    "cc1_rescaled, r_sec1_ll_coord_rescalled, r_sec2_upl_coord_rescalled"
   ]
  },
  {
   "cell_type": "code",
   "execution_count": null,
   "metadata": {},
   "outputs": [],
   "source": [
    "constantx = 241/cc1[0]\n",
    "constanty = 635/cc1[1]\n",
    "\n",
    "constantx, Nx/X_max, constanty, Ny/Y_max"
   ]
  },
  {
   "cell_type": "code",
   "execution_count": null,
   "metadata": {},
   "outputs": [],
   "source": [
    "fig, ax = plt.subplots()\n",
    "c = ax.pcolor(A, cmap='Spectral')\n",
    "ax.set_title('Wetropolis DtM')\n",
    "fig.colorbar(c, ax = ax)"
   ]
  },
  {
   "cell_type": "code",
   "execution_count": null,
   "metadata": {},
   "outputs": [],
   "source": [
    "# test case for param\n",
    "idx_test = 500\n",
    "\n",
    "xx = r_sec1_start_upper_x + tx[idx_test]*(r_sec1_end_upper_x - r_sec1_start_upper_x)/Nx\n",
    "yy = r_sec1_start_lower_y + ty[idx_test]*(r_sec1_end_upper_y - r_sec1_start_lower_y)/Ny\n",
    "\n",
    "print(xx, yy, ty[idx_test]*(r_sec1_end_upper_y - r_sec1_start_lower_y)/Ny)\n",
    "\n",
    "xj = Nx*r_sec1_start_upper_x/X_max\n",
    "yj = Ny*r_sec1_start_upper_y/Y_max\n",
    "\n",
    "print(xj, yj)\n",
    "print(r_sec1_start_upper_x, r_sec1_start_upper_y, tx[int(xj)], ty[int(yj)])"
   ]
  },
  {
   "cell_type": "code",
   "execution_count": null,
   "metadata": {},
   "outputs": [],
   "source": [
    "int(xj)"
   ]
  },
  {
   "cell_type": "code",
   "execution_count": null,
   "metadata": {},
   "outputs": [],
   "source": [
    "np.shape(ty)"
   ]
  },
  {
   "cell_type": "code",
   "execution_count": null,
   "metadata": {},
   "outputs": [],
   "source": [
    "r_sec1_start_lower_y"
   ]
  },
  {
   "cell_type": "code",
   "execution_count": null,
   "metadata": {},
   "outputs": [],
   "source": []
  }
 ],
 "metadata": {
  "kernelspec": {
   "display_name": "FMtests",
   "language": "python",
   "name": "python3"
  },
  "language_info": {
   "codemirror_mode": {
    "name": "ipython",
    "version": 3
   },
   "file_extension": ".py",
   "mimetype": "text/x-python",
   "name": "python",
   "nbconvert_exporter": "python",
   "pygments_lexer": "ipython3",
   "version": "3.10.8"
  },
  "orig_nbformat": 4
 },
 "nbformat": 4,
 "nbformat_minor": 2
}
