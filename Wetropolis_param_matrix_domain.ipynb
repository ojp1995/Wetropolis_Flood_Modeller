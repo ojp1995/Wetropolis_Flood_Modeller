{
 "cells": [
  {
   "attachments": {},
   "cell_type": "markdown",
   "metadata": {},
   "source": [
    "# Parameterising the domain of the wetropolis\n",
    "\n",
    "Lets say that we want a fix the number of degrees of freedom in each direction.\n",
    "\n",
    "Nx and Ny need to be inputs to the function.\n",
    "We will be following the CAD drawing as given here (https://github.com/obokhove/wetropolis20162020/blob/master/topodrawings/foamblocksaug2017NFMcombinedscale50pct.pdf).\n",
    "\n",
    "\n"
   ]
  },
  {
   "attachments": {},
   "cell_type": "markdown",
   "metadata": {},
   "source": []
  },
  {
   "cell_type": "code",
   "execution_count": null,
   "metadata": {},
   "outputs": [],
   "source": []
  },
  {
   "cell_type": "code",
   "execution_count": null,
   "metadata": {},
   "outputs": [],
   "source": [
    "import numpy as np\n",
    "import matplotlib.pyplot as plt\n",
    "\n",
    "from domain_utilities import *"
   ]
  },
  {
   "cell_type": "code",
   "execution_count": null,
   "metadata": {},
   "outputs": [],
   "source": [
    "# Creating a dict for the coefficients:\n",
    "X = 1200\n",
    "Y = 1194\n",
    "coeff_dict = {\n",
    "    'River section 1 x range': (290/X, 1115/X),\n",
    "    'River section 1 y range': (997/Y, 1047/Y),\n",
    "    'FP section 1 x range':  (290/X, 1115/X),\n",
    "    'FP section 1 y range': (1047/Y, 1147/Y),\n",
    "    'Curve 1 centre': (290/X, 897/Y),\n",
    "    'Curve 1 river radius range': 'Problem',\n",
    "    'Curve 1 FP radius range' :'Problem',\n",
    "    'River section 2 x range' : (290/X, 925/X),\n",
    "    'River section 2 y range' : (747/Y, 797/Y),\n",
    "    'FP section 2 x range': (290/X, 925/X) ,\n",
    "    'FP section 2 y range': (647/Y, 747/Y),\n",
    "    'Curve 2 centre': (925/X, 597/Y),\n",
    "    'Curve 2 river radius range': 'Problem',\n",
    "    'Curve 2 FP radius range': 'Problem',\n",
    "    'River section 3 x range': (290/X, 925/X),\n",
    "    'River section 3 y range': (397/Y, 447/Y),\n",
    "    'FP section 3 x range': (290/X, 925/X),\n",
    "    'FP section 3 y range': (447/Y, 547/Y),\n",
    "    'Curve 3 centre': (290/X, 297/Y),\n",
    "    'Curve 3 river radius': 'Problem',\n",
    "    'Curve 3 FP radius range': 'Problem',\n",
    "    'River section 4 x range': (290/X, 954/X),\n",
    "    'River section 4 y range': (147/Y, 197/Y),\n",
    "    'FP section 4 x range': (290/X, 467/X),\n",
    "    'FP section 4 y range': (47/Y, 147/Y)\n",
    "}"
   ]
  },
  {
   "cell_type": "code",
   "execution_count": null,
   "metadata": {},
   "outputs": [],
   "source": [
    "coeff_dict"
   ]
  },
  {
   "cell_type": "code",
   "execution_count": null,
   "metadata": {},
   "outputs": [],
   "source": [
    "coeff_dict['River section 2 x range']"
   ]
  },
  {
   "cell_type": "code",
   "execution_count": null,
   "metadata": {},
   "outputs": [],
   "source": [
    "# new attempt\n",
    "X_disc = 100\n",
    "Y_disc = 100\n",
    "river_depth = -0.5\n",
    "FP_depth = 0.1\n",
    "\n",
    "A = create_wetropolis_DtM(X_disc, Y_disc, coeff_dict, river_depth, FP_depth)\n",
    "\n",
    "\n"
   ]
  },
  {
   "cell_type": "code",
   "execution_count": null,
   "metadata": {},
   "outputs": [],
   "source": [
    "fig, ax = plt.subplots()\n",
    "c = ax.pcolor(A, cmap='Spectral')\n",
    "ax.set_title('Wetropolis DtM')\n",
    "fig.colorbar(c, ax = ax)"
   ]
  },
  {
   "attachments": {},
   "cell_type": "markdown",
   "metadata": {},
   "source": []
  },
  {
   "attachments": {},
   "cell_type": "markdown",
   "metadata": {},
   "source": [
    "# old approach"
   ]
  },
  {
   "cell_type": "code",
   "execution_count": null,
   "metadata": {},
   "outputs": [],
   "source": [
    "Nx = 1000\n",
    "Ny = 800\n",
    "\n",
    "# dumby input varibles\n",
    "\n",
    "# max variables\n",
    "X_max = 1200\n",
    "Y_max = 1194\n",
    "\n",
    "# depth vars\n",
    "depth_river = -0.02\n",
    "\n",
    "# parameterised grid positions\n",
    "tx = np.linspace(0, X_max, Nx)\n",
    "ty = np.linspace(0, Y_max, Ny)\n",
    "\n",
    "# creating empty matrix\n",
    "A = np.ones((Ny, Nx))\n",
    "\n",
    "# # Creating start and end points for first part of the river\n",
    "# r_sec1_start_upper_x, r_sec1_start_upper_y = 1115, 1147\n",
    "# r_sec1_start_lower_x, r_sec1_start_lower_y = 1115, 1097\n",
    "\n",
    "# r_sec1_end_upper_x, r_sec1_end_upper_y = 290, 1147\n",
    "# r_sec1_end_lower_x, r_sec1_end_lower_y = 290, 1097\n",
    "\n",
    "# # first straight part\n",
    "# A_test = np.zeros((Ny, Nx))\n",
    "# for xx in range( r_sec1_end_upper_x, r_sec1_start_upper_x):\n",
    "#     for yy in range(r_sec1_start_lower_y, r_sec1_end_upper_y):\n",
    "#         xj = int(Nx*xx/X_max)\n",
    "#         yj = int(Ny*yy/Y_max)\n",
    "\n",
    "#         A_test[yj, xj] = depth_river\n",
    "        \n",
    "\n",
    "# Have managed to get a method to map one function to the other. Ideally need to turn this\n",
    "# into a function with the inputs being the different segments then also repeate this for \n",
    "# the curved part.\n",
    "\n",
    "r_sec1_low_x, r_sec1_up_x = 290, 1115\n",
    "r_sec1_low_y, r_sec1_up_y = 1097, 1147\n",
    "A = river_section_param_construct(A, depth_river, r_sec1_low_x, r_sec1_up_x,\n",
    "                                   r_sec1_low_y, r_sec1_up_y, Nx, Ny, X_max, Y_max)\n",
    "\n",
    "r_sec2_low_x, r_sec2_up_x = 290, 954\n",
    "r_sec2_low_y, r_sec2_up_y = 747, 797\n",
    "A = river_section_param_construct(A, depth_river, r_sec2_low_x, r_sec2_up_x,\n",
    "                                   r_sec2_low_y, r_sec2_up_y, Nx, Ny, X_max, Y_max)\n",
    "\n",
    "r_sec3_low_x, r_sec3_up_x = 290, 954\n",
    "r_sec3_low_y, r_sec3_up_y = 397,447\n",
    "A = river_section_param_construct(A, depth_river, r_sec3_low_x, r_sec3_up_x,\n",
    "                                   r_sec3_low_y, r_sec3_up_y, Nx, Ny, X_max, Y_max)\n",
    "\n",
    "# from final curve to town\n",
    "r_sec4_low_x, r_sec4_up_x = 290, 467\n",
    "r_sec4_low_y, r_sec4_up_y = 147, 197\n",
    "A = river_section_param_construct(A, depth_river, r_sec4_low_x, r_sec4_up_x,\n",
    "                                   r_sec4_low_y, r_sec4_up_y, Nx, Ny, X_max, Y_max)\n",
    "\n",
    "# town section\n",
    "r_sec5_low_x, r_sec5_up_x = 467, 887\n",
    "r_sec5_low_y, r_sec5_up_y = 147, 197\n",
    "A = river_section_param_construct(A, depth_river, r_sec5_low_x, r_sec5_up_x,\n",
    "                                   r_sec5_low_y, r_sec5_up_y, Nx, Ny, X_max, Y_max)\n",
    "\n",
    "# town to exit\n",
    "r_sec6_low_x, r_sec6_up_x = 887, 954\n",
    "r_sec6_low_y, r_sec6_up_y = 147, 197\n",
    "A = river_section_param_construct(A, depth_river, r_sec6_low_x, r_sec6_up_x,\n",
    "                                   r_sec6_low_y, r_sec6_up_y, Nx, Ny, X_max, Y_max)\n",
    "\n",
    "\n",
    "          \n",
    "\n"
   ]
  },
  {
   "attachments": {},
   "cell_type": "markdown",
   "metadata": {},
   "source": [
    "# Now adding in the curves\n",
    "Now weare going to add in the curved sections"
   ]
  },
  {
   "cell_type": "code",
   "execution_count": null,
   "metadata": {},
   "outputs": [],
   "source": [
    "cc1 = 290, 879  # centre of the first circle\n",
    "r1, r2= 100, 150\n",
    "theta1, theta2 = np.pi/2, 3*np.pi/2\n",
    "N_theta = 300\n",
    "r_range = np.linspace(r1, r2, N_theta)\n",
    "theta_range = np.linspace(theta1, theta2, N_theta)\n",
    "\n",
    "for r in r_range:\n",
    "    for theta in theta_range:\n",
    "        xx = cc1[0] + r*np.cos(theta)\n",
    "        yy = cc1[1] + r*np.sin(theta)\n",
    "\n",
    "        xj = int(Nx*xx/X_max)\n",
    "        yj = int(Ny*yy/Y_max)\n",
    "\n",
    "        A[yj, xj] = depth_river\n",
    "\n",
    "\n",
    "\n",
    "\n"
   ]
  },
  {
   "cell_type": "code",
   "execution_count": null,
   "metadata": {},
   "outputs": [],
   "source": [
    "cc1_rescaled = Nx*cc1[0]/X_max, Ny*cc1[1]/Y_max\n",
    "\n",
    "r_sec1_ll_coord_rescalled = r_sec1_low_x*Nx/X_max, r_sec1_low_y*Ny/Y_max\n",
    "\n",
    "r_sec2_upl_coord_rescalled = r_sec2_low_x*Nx/X_max, r_sec2_up_y*Ny/Y_max\n",
    "\n",
    "cc1_rescaled, r_sec1_ll_coord_rescalled, r_sec2_upl_coord_rescalled"
   ]
  },
  {
   "cell_type": "code",
   "execution_count": null,
   "metadata": {},
   "outputs": [],
   "source": [
    "constantx = 241/cc1[0]\n",
    "constanty = 635/cc1[1]\n",
    "\n",
    "constantx, Nx/X_max, constanty, Ny/Y_max"
   ]
  },
  {
   "cell_type": "code",
   "execution_count": null,
   "metadata": {},
   "outputs": [],
   "source": [
    "fig, ax = plt.subplots()\n",
    "c = ax.pcolor(A, cmap='Spectral')\n",
    "ax.set_title('Wetropolis DtM')\n",
    "fig.colorbar(c, ax = ax)"
   ]
  },
  {
   "cell_type": "code",
   "execution_count": null,
   "metadata": {},
   "outputs": [],
   "source": [
    "# test case for param\n",
    "idx_test = 500\n",
    "\n",
    "xx = r_sec1_start_upper_x + tx[idx_test]*(r_sec1_end_upper_x - r_sec1_start_upper_x)/Nx\n",
    "yy = r_sec1_start_lower_y + ty[idx_test]*(r_sec1_end_upper_y - r_sec1_start_lower_y)/Ny\n",
    "\n",
    "print(xx, yy, ty[idx_test]*(r_sec1_end_upper_y - r_sec1_start_lower_y)/Ny)\n",
    "\n",
    "xj = Nx*r_sec1_start_upper_x/X_max\n",
    "yj = Ny*r_sec1_start_upper_y/Y_max\n",
    "\n",
    "print(xj, yj)\n",
    "print(r_sec1_start_upper_x, r_sec1_start_upper_y, tx[int(xj)], ty[int(yj)])"
   ]
  },
  {
   "cell_type": "code",
   "execution_count": null,
   "metadata": {},
   "outputs": [],
   "source": [
    "int(xj)"
   ]
  },
  {
   "cell_type": "code",
   "execution_count": null,
   "metadata": {},
   "outputs": [],
   "source": [
    "np.shape(ty)"
   ]
  },
  {
   "cell_type": "code",
   "execution_count": null,
   "metadata": {},
   "outputs": [],
   "source": [
    "r_sec1_start_lower_y"
   ]
  },
  {
   "cell_type": "code",
   "execution_count": null,
   "metadata": {},
   "outputs": [],
   "source": []
  }
 ],
 "metadata": {
  "kernelspec": {
   "display_name": "FMtests",
   "language": "python",
   "name": "python3"
  },
  "language_info": {
   "codemirror_mode": {
    "name": "ipython",
    "version": 3
   },
   "file_extension": ".py",
   "mimetype": "text/x-python",
   "name": "python",
   "nbconvert_exporter": "python",
   "pygments_lexer": "ipython3",
   "version": "3.10.8"
  },
  "orig_nbformat": 4
 },
 "nbformat": 4,
 "nbformat_minor": 2
}
