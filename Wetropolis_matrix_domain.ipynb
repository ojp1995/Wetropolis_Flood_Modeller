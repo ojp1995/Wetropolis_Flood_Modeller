{
 "cells": [
  {
   "attachments": {},
   "cell_type": "markdown",
   "metadata": {},
   "source": [
    "# Old document - experimental work\n",
    "\n",
    "In this document we will be constructing the 2D matrix for the topography of the wetropolis set up.\n",
    "\n",
    "We will be following the CAD drawing as given here (https://github.com/obokhove/wetropolis20162020/blob/master/topodrawings/foamblocksaug2017NFMcombinedscale50pct.pdf).\n",
    "\n"
   ]
  },
  {
   "cell_type": "code",
   "execution_count": null,
   "metadata": {},
   "outputs": [],
   "source": [
    "import numpy as np\n",
    "import matplotlib.pyplot as plt\n",
    "import copy\n",
    "from matplotlib.colors import LogNorm\n"
   ]
  },
  {
   "attachments": {},
   "cell_type": "markdown",
   "metadata": {},
   "source": [
    "First we need to create a 1200 by 1194 boundary box matrix, with the idea that the water will be flowing in from the top right and out through the top left.\n",
    "\n",
    "## assumption\n",
    "First we will consider having a constant depth of ??, then we will begin trying to put a slope on it."
   ]
  },
  {
   "cell_type": "code",
   "execution_count": null,
   "metadata": {},
   "outputs": [],
   "source": [
    "A = np.zeros(( 1194, 1200))\n",
    "\n",
    "# plt.pcolor(A)\n",
    "\n",
    "depth = -0.02\n"
   ]
  },
  {
   "attachments": {},
   "cell_type": "markdown",
   "metadata": {},
   "source": [
    "Now we will add the first section of the rivercoming in from the source.\n",
    "\n",
    "x = [290:1115]\n",
    "y = [1097:1147]\n",
    "value = -0.5"
   ]
  },
  {
   "cell_type": "code",
   "execution_count": null,
   "metadata": {},
   "outputs": [],
   "source": [
    "for xx in range(290,1115):\n",
    "    for yy in range(997,1047):\n",
    "        A[yy, xx] = depth\n",
    "\n",
    "# plt.pcolor(A)"
   ]
  },
  {
   "attachments": {},
   "cell_type": "markdown",
   "metadata": {},
   "source": [
    "Now adding the other straight channels:\n",
    "\n",
    "Section 3:\n",
    "x = [290: 954]\n",
    "y = [747: 797]\n",
    "\n",
    "Section 5:\n",
    "x = [290: 954]\n",
    "y = [397: 447]\n",
    "\n",
    "Section 7 (from turn into town):\n",
    "x = [290 : 467]\n",
    "y = 147: 197\n",
    "\n",
    "Section 8 (town)\n",
    "x = 467: 887\n",
    "y = 147: 197\n",
    "\n",
    "Section 9 (After town before exit turn)\n",
    "x = 887: 954\n",
    "y = 147: 197"
   ]
  },
  {
   "cell_type": "code",
   "execution_count": null,
   "metadata": {},
   "outputs": [],
   "source": [
    "# section 3\n",
    "for xx in range(290, 954):\n",
    "    for yy in range(747, 797):\n",
    "        A[yy, xx] = depth\n",
    "\n",
    "# section 5\n",
    "for xx in range(290, 954):\n",
    "    for yy in range(397, 447):\n",
    "        A[yy, xx] = depth\n",
    "\n",
    "# section 7\n",
    "for xx in range(290, 467):\n",
    "    for yy in range(147, 197):\n",
    "        A[yy, xx] = depth\n",
    "\n",
    "# section 8 \n",
    "for xx in range(467, 887):\n",
    "    for yy in range(147, 197):\n",
    "        A[yy, xx] = depth\n",
    "\n",
    "#section 9\n",
    "for xx in range(887, 954):\n",
    "    for yy in range(147, 197):\n",
    "        A[yy, xx] = depth"
   ]
  },
  {
   "cell_type": "code",
   "execution_count": null,
   "metadata": {},
   "outputs": [],
   "source": [
    "# plt.pcolor(A)"
   ]
  },
  {
   "attachments": {},
   "cell_type": "markdown",
   "metadata": {},
   "source": [
    "# Adding in the turns\n",
    "\n",
    "## First curve\n",
    "Section 2 is the first curve that is connects the top channel to the one below it. Using cartesian coordinates, xx = a + rcos(theta), yy = b + rsin(theta), where (a, b) is the centre of the circle\n",
    "\n",
    "r = [100 : 150]\n",
    "theta = [pi/2 : 3pi/2]\n",
    "\n",
    "circle centred at (290, 897)"
   ]
  },
  {
   "cell_type": "code",
   "execution_count": null,
   "metadata": {},
   "outputs": [],
   "source": [
    "r1, r2= 100, 150\n",
    "\n",
    "theta1, theta2 = np.pi/2, 3*np.pi/2\n",
    "\n",
    "N_theta = 300\n",
    "\n",
    "r_range = np.linspace(r1, r2, N_theta)\n",
    "theta_range = np.linspace(theta1, theta2, N_theta)\n",
    "\n",
    "a, b = 290, 897\n",
    "\n",
    "for r in r_range:\n",
    "    for theta in theta_range:\n",
    "\n",
    "        xx = a + r*np.cos(theta)\n",
    "        yy = b+ r*np.sin(theta)\n",
    "\n",
    "        A[int(np.ceil(yy)), int(np.ceil(xx))] = depth\n",
    "        A[int(np.floor(yy)), int(np.floor(xx))] = depth\n",
    "        A[int(np.ceil(yy)), int(np.floor(xx))] = depth\n",
    "        A[int(np.floor(yy)), int(np.ceil(xx))] = depth        \n",
    "\n",
    "# plt.pcolor(A)"
   ]
  },
  {
   "attachments": {},
   "cell_type": "markdown",
   "metadata": {},
   "source": [
    "Now lets move onto the next curve.\n",
    "\n",
    "Centre (954, 597)\n",
    "r = [150, 200]\n",
    "theta = 3*pi/2 , 5*pi/2\n",
    "\n"
   ]
  },
  {
   "cell_type": "code",
   "execution_count": null,
   "metadata": {},
   "outputs": [],
   "source": [
    "r1, r2= 150, 200\n",
    "theta1, theta2 = 3*np.pi/2, 5*np.pi/2\n",
    "\n",
    "N_theta = 500\n",
    "\n",
    "r_range = np.linspace(r1, r2, N_theta)\n",
    "theta_range = np.linspace(theta1, theta2, N_theta)\n",
    "\n",
    "a, b = 954, 597\n",
    "\n",
    "for r in r_range:\n",
    "    for theta in theta_range:\n",
    "\n",
    "        xx = a + r*np.cos(theta)\n",
    "        yy = b+ r*np.sin(theta)\n",
    "\n",
    "        A[int(np.ceil(yy)), int(np.ceil(xx))] = depth\n",
    "        A[int(np.floor(yy)), int(np.floor(xx))] = depth\n",
    "        A[int(np.ceil(yy)), int(np.floor(xx))] = depth\n",
    "        A[int(np.floor(yy)), int(np.ceil(xx))] = depth        \n",
    "\n",
    "# plt.pcolor(A)"
   ]
  },
  {
   "attachments": {},
   "cell_type": "markdown",
   "metadata": {},
   "source": [
    "Third bend in river\n",
    "\n",
    "centre = 290, 397\n",
    "theta = pi/2, 3pi/2\n",
    "r = 100, 150"
   ]
  },
  {
   "cell_type": "code",
   "execution_count": null,
   "metadata": {},
   "outputs": [],
   "source": [
    "r1, r2= 100, 150\n",
    "theta1, theta2 = np.pi/2, 3*np.pi/2\n",
    "\n",
    "N_theta = 300\n",
    "\n",
    "r_range = np.linspace(r1, r2, N_theta)\n",
    "theta_range = np.linspace(theta1, theta2, N_theta)\n",
    "\n",
    "a, b = 290, 297\n",
    "\n",
    "for r in r_range:\n",
    "    for theta in theta_range:\n",
    "\n",
    "        xx = a + r*np.cos(theta)\n",
    "        yy = b+ r*np.sin(theta)\n",
    "\n",
    "        A[int(np.ceil(yy)), int(np.ceil(xx))] = depth\n",
    "        A[int(np.floor(yy)), int(np.floor(xx))] = depth\n",
    "        A[int(np.ceil(yy)), int(np.floor(xx))] = depth\n",
    "        A[int(np.floor(yy)), int(np.ceil(xx))] = depth        \n",
    "\n",
    "# plt.pcolor(A)"
   ]
  },
  {
   "cell_type": "code",
   "execution_count": null,
   "metadata": {},
   "outputs": [],
   "source": [
    "# plt.pcolor(A)"
   ]
  },
  {
   "cell_type": "code",
   "execution_count": null,
   "metadata": {},
   "outputs": [],
   "source": [
    "r = 100\n",
    "a = 290\n",
    "b = 997\n",
    "theta = np.pi/2\n",
    "\n",
    "x = a + r*np.cos(theta)\n",
    "y = b + r*np.sin(theta)\n",
    "\n",
    "print(x, y)\n"
   ]
  },
  {
   "attachments": {},
   "cell_type": "markdown",
   "metadata": {},
   "source": [
    "Now we need to make an exit point that is somewhat curved and makes the exit point\n",
    "\n",
    "# Question??\n",
    "Is there anything stopping us making it straight or angled? Not sure that it is really needed to be completely accurate."
   ]
  },
  {
   "attachments": {},
   "cell_type": "markdown",
   "metadata": {},
   "source": [
    "# Adding in the flood plane\n",
    "\n",
    "We have a flood plain on the upper side of the river\n",
    "\n",
    "Adding the straight section first\n",
    "\n",
    "x = [290, 1115]\n",
    "y = [1047, 1147]\n",
    "\n",
    "depth of flood plain = 0.1\n",
    "\n"
   ]
  },
  {
   "cell_type": "code",
   "execution_count": null,
   "metadata": {},
   "outputs": [],
   "source": [
    "depth_FP = -0.01\n",
    "\n",
    "for xx in range(290, 1115):\n",
    "    for yy in range(1047, 1147):\n",
    "        A[yy, xx] = depth_FP\n",
    "\n",
    "# plt.pcolor(A)\n",
    "# plt.colorbar"
   ]
  },
  {
   "attachments": {},
   "cell_type": "markdown",
   "metadata": {},
   "source": [
    "Other three straight sections\n",
    "\n",
    "x = [290: 954]\n",
    "y = 647:747\n",
    "\n",
    "x = 290:954\n",
    "y = 447:547\n",
    "\n",
    "x = 290:467\n",
    "y = 47:147\n"
   ]
  },
  {
   "cell_type": "code",
   "execution_count": null,
   "metadata": {},
   "outputs": [],
   "source": [
    "for xx in range(290, 954):\n",
    "    for yy in range(647, 747):\n",
    "        A[yy, xx] = depth_FP\n",
    "\n",
    "for xx in range(290, 954):\n",
    "    for yy in range(447, 547):\n",
    "        A[yy, xx] = depth_FP\n",
    "\n",
    "for xx in range(290, 467):\n",
    "    for yy in range(47, 147):\n",
    "        A[yy, xx] = depth_FP\n",
    "\n",
    "# plt.pcolor(A)"
   ]
  },
  {
   "attachments": {},
   "cell_type": "markdown",
   "metadata": {},
   "source": [
    "Now adding in the curved sections\n",
    "\n",
    "Curve 1:\n",
    "centre = (290, 897)\n",
    "theta = (pi/2, 3pi/2)\n",
    "r = (150, 250)\n",
    "\n",
    "\n"
   ]
  },
  {
   "cell_type": "code",
   "execution_count": null,
   "metadata": {},
   "outputs": [],
   "source": [
    "r1, r2= 150, 250\n",
    "\n",
    "theta1, theta2 = np.pi/2, 3*np.pi/2\n",
    "\n",
    "N_theta = 600\n",
    "\n",
    "r_range = np.linspace(r1, r2, N_theta)\n",
    "theta_range = np.linspace(theta1, theta2, N_theta)\n",
    "\n",
    "a, b = 290, 897\n",
    "\n",
    "for r in r_range:\n",
    "    for theta in theta_range:\n",
    "\n",
    "        xx = a + r*np.cos(theta)\n",
    "        yy = b + r*np.sin(theta)\n",
    "\n",
    "        A[int(np.ceil(yy)), int(np.ceil(xx))] = depth_FP\n",
    "        A[int(np.floor(yy)), int(np.floor(xx))] = depth_FP\n",
    "        A[int(np.ceil(yy)), int(np.floor(xx))] = depth_FP\n",
    "        A[int(np.floor(yy)), int(np.ceil(xx))] = depth_FP  "
   ]
  },
  {
   "attachments": {},
   "cell_type": "markdown",
   "metadata": {},
   "source": [
    "Curve 2:\n",
    "centre = (954, 597)\n",
    "theta = 3pi/2, 5pi/2\n",
    "r = 50, 150"
   ]
  },
  {
   "cell_type": "code",
   "execution_count": null,
   "metadata": {},
   "outputs": [],
   "source": [
    "r1, r2= 50, 150\n",
    "theta1, theta2 = 3*np.pi/2, 5*np.pi/2\n",
    "\n",
    "N_theta = 1000\n",
    "\n",
    "r_range = np.linspace(r1, r2, N_theta)\n",
    "theta_range = np.linspace(theta1, theta2, N_theta)\n",
    "\n",
    "a, b = 954, 597\n",
    "\n",
    "for r in r_range:\n",
    "    for theta in theta_range:\n",
    "\n",
    "        xx = a + r*np.cos(theta)\n",
    "        yy = b + r*np.sin(theta)\n",
    "\n",
    "        A[int(np.ceil(yy)), int(np.ceil(xx))] = depth_FP\n",
    "        A[int(np.floor(yy)), int(np.floor(xx))] = depth_FP\n",
    "        A[int(np.ceil(yy)), int(np.floor(xx))] = depth_FP\n",
    "        A[int(np.floor(yy)), int(np.ceil(xx))] = depth_FP        "
   ]
  },
  {
   "attachments": {},
   "cell_type": "markdown",
   "metadata": {},
   "source": [
    "curve 3\n",
    "\n",
    "centre = (290, 297)\n",
    "theta = pi/2, 3pi/2\n",
    "r = 150, 250\n"
   ]
  },
  {
   "cell_type": "code",
   "execution_count": null,
   "metadata": {},
   "outputs": [],
   "source": [
    "r1, r2= 150, 250\n",
    "theta1, theta2 = np.pi/2, 3*np.pi/2\n",
    "\n",
    "N_theta = 600\n",
    "\n",
    "r_range = np.linspace(r1, r2, N_theta)\n",
    "theta_range = np.linspace(theta1, theta2, N_theta)\n",
    "\n",
    "a, b = 290, 297\n",
    "\n",
    "for r in r_range:\n",
    "    for theta in theta_range:\n",
    "\n",
    "        xx = a + r*np.cos(theta)\n",
    "        yy = b+ r*np.sin(theta)\n",
    "\n",
    "        A[int(np.ceil(yy)), int(np.ceil(xx))] = depth_FP\n",
    "        A[int(np.floor(yy)), int(np.floor(xx))] = depth_FP\n",
    "        A[int(np.ceil(yy)), int(np.floor(xx))] = depth_FP\n",
    "        A[int(np.floor(yy)), int(np.ceil(xx))] = depth_FP   "
   ]
  },
  {
   "cell_type": "code",
   "execution_count": null,
   "metadata": {},
   "outputs": [],
   "source": [
    "# plt.pcolor(A)"
   ]
  },
  {
   "attachments": {},
   "cell_type": "markdown",
   "metadata": {},
   "source": [
    "# Adding in exit curve "
   ]
  },
  {
   "cell_type": "code",
   "execution_count": null,
   "metadata": {},
   "outputs": [],
   "source": [
    "x_range = np.linspace(-1.5, 1.5, 100)\n",
    "y_range = (294, 344)\n",
    "\n",
    "c_horz = 123/np.max(x_range)\n",
    "c_vert = 146.5/np.tan(np.max(x_range))\n",
    "\n",
    "river_depth = depth\n",
    "\n",
    "for xx in x_range:\n",
    "    for yy in range(294, 344):\n",
    "        \n",
    "        xj = 1076 + int(xx*c_horz)\n",
    "        yj = yy + int(-c_vert*np.tan(xx))\n",
    "\n",
    "        A[yj, xj] = river_depth"
   ]
  },
  {
   "cell_type": "code",
   "execution_count": null,
   "metadata": {},
   "outputs": [],
   "source": [
    "plt.pcolor(A)"
   ]
  },
  {
   "attachments": {},
   "cell_type": "markdown",
   "metadata": {},
   "source": [
    "# Adding in the town and raising the defences slightly"
   ]
  },
  {
   "attachments": {},
   "cell_type": "markdown",
   "metadata": {},
   "source": [
    "# Adding in the gradual tilt so it is downstream\n",
    "\n",
    "From the document that was published we know that there is a gradual tilt of "
   ]
  },
  {
   "cell_type": "code",
   "execution_count": null,
   "metadata": {},
   "outputs": [],
   "source": [
    "slope = 0.042\n",
    "basic_slope = np.linspace(0, -slope, 1194)\n",
    "\n",
    "A_new = copy.copy(A)\n",
    "\n",
    "for count, value in enumerate(basic_slope):\n",
    "    A_new[count, :] = A[count, :] + value\n",
    "\n",
    "plt.pcolor(np.abs(A_new - A))\n",
    "\n"
   ]
  },
  {
   "cell_type": "code",
   "execution_count": null,
   "metadata": {},
   "outputs": [],
   "source": [
    "plt.pcolor(A_new)\n",
    "plt.colorbar\n",
    "plt.show()"
   ]
  },
  {
   "cell_type": "code",
   "execution_count": null,
   "metadata": {},
   "outputs": [],
   "source": [
    "fig, ax = plt.subplots()\n",
    "c = ax.pcolor(A_new, cmap='Spectral')\n",
    "ax.set_title('Wetropolis DtM')\n",
    "fig.colorbar(c, ax = ax)\n"
   ]
  },
  {
   "cell_type": "code",
   "execution_count": null,
   "metadata": {},
   "outputs": [],
   "source": [
    "# random idea - Think this is a bad idea.\n",
    "\n",
    "A_meshgrid = np.meshgrid(A_new)\n",
    "\n",
    "np.shape(A_meshgrid)"
   ]
  },
  {
   "cell_type": "code",
   "execution_count": null,
   "metadata": {},
   "outputs": [],
   "source": []
  }
 ],
 "metadata": {
  "kernelspec": {
   "display_name": "FMtests",
   "language": "python",
   "name": "python3"
  },
  "language_info": {
   "codemirror_mode": {
    "name": "ipython",
    "version": 3
   },
   "file_extension": ".py",
   "mimetype": "text/x-python",
   "name": "python",
   "nbconvert_exporter": "python",
   "pygments_lexer": "ipython3",
   "version": "3.10.8"
  },
  "orig_nbformat": 4
 },
 "nbformat": 4,
 "nbformat_minor": 2
}
